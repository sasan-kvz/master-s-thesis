{
 "cells": [
  {
   "cell_type": "code",
   "execution_count": 6,
   "id": "51e7b342",
   "metadata": {},
   "outputs": [
    {
     "name": "stdout",
     "output_type": "stream",
     "text": [
      "Cropped NIfTI file saved as: E:\\proje\\data\\0Hemmati\\fMRI\\MainData\\2019_05_22\\Image\\Series4_ep2d_Run1\\mask/cropped_v1.nii\n"
     ]
    }
   ],
   "source": [
    "import nibabel as nib\n",
    "import numpy as np\n",
    "\n",
    "# Path to your NIfTI file\n",
    "nifti_file_path = r'E:\\proje\\data\\0Hemmati\\fMRI\\MainData\\2019_05_22\\Image\\Series4_ep2d_Run1\\mask/v1.nii'\n",
    "\n",
    "# Load the NIfTI file\n",
    "img = nib.load(nifti_file_path)\n",
    "data = img.get_fdata()\n",
    "\n",
    "# Define the dimensions for cropping\n",
    "start_x = (91 - 79) // 2 \n",
    "end_x = start_x + 79\n",
    "\n",
    "start_y = (109 - 95) // 2 \n",
    "end_y = start_y + 95\n",
    "\n",
    "start_z = (91 - 79) // 2 \n",
    "end_z = start_z + 79\n",
    "\n",
    "# Crop the data\n",
    "cropped_data = data[start_x:end_x, start_y:end_y, start_z:end_z]\n",
    "\n",
    "# Create a new NIfTI image using the cropped data\n",
    "cropped_img = nib.Nifti1Image(cropped_data, affine=img.affine)\n",
    "\n",
    "# Save the cropped NIfTI image\n",
    "cropped_nifti_file_path = r'E:\\proje\\data\\0Hemmati\\fMRI\\MainData\\2019_05_22\\Image\\Series4_ep2d_Run1\\mask/cropped_v1.nii'\n",
    "nib.save(cropped_img, cropped_nifti_file_path)\n",
    "\n",
    "print(f'Cropped NIfTI file saved as: {cropped_nifti_file_path}')\n"
   ]
  },
  {
   "cell_type": "code",
   "execution_count": 1,
   "id": "fdead3b9",
   "metadata": {},
   "outputs": [
    {
     "name": "stdout",
     "output_type": "stream",
     "text": [
      "Padded NIfTI file saved as: E:\\proje\\data\\0Hemmati\\fMRI\\MainData\\2019_05_22\\Image\\build it mask/lpadaverage 3 run.nii\n"
     ]
    }
   ],
   "source": [
    "#assymetric left\n",
    "import nibabel as nib\n",
    "import numpy as np\n",
    "\n",
    "# Path to your 79x95x79 NIfTI file\n",
    "nifti_file_path = r'E:\\proje\\data\\0Hemmati\\fMRI\\MainData\\2019_05_22\\Image\\build it mask/average 3 run.nii'\n",
    "\n",
    "# Load the NIfTI file\n",
    "img = nib.load(nifti_file_path)\n",
    "data = img.get_fdata()\n",
    "\n",
    "# Define target dimensions\n",
    "target_shape = (91, 109, 91)\n",
    "\n",
    "# Calculate padding along each axis\n",
    "pad_x = (target_shape[0] - data.shape[0]) \n",
    "pad_y = (target_shape[1] - data.shape[1]) \n",
    "pad_z = (target_shape[2] - data.shape[2]) \n",
    "\n",
    "# Calculate padding for each side (left, right, top, bottom, front, back)\n",
    "pad_width = (\n",
    "   (0,12),  # Padding for x-axis (10 voxels on the left, 2 on the right)\n",
    "    (0,14),   # Padding for y-axis (5 voxels on the left, 3 on the right)\n",
    "    (0,12)    \n",
    ")\n",
    "\n",
    "# Apply symmetric zero-padding\n",
    "padded_data = np.pad(data, pad_width, mode='constant', constant_values=0)\n",
    "\n",
    "# Create a new NIfTI image using the padded data\n",
    "padded_img = nib.Nifti1Image(padded_data, affine=img.affine)\n",
    "\n",
    "# Save the padded NIfTI image\n",
    "padded_nifti_file_path = r'E:\\proje\\data\\0Hemmati\\fMRI\\MainData\\2019_05_22\\Image\\build it mask/lpadaverage 3 run.nii'\n",
    "nib.save(padded_img, padded_nifti_file_path)\n",
    "\n",
    "print(f'Padded NIfTI file saved as: {padded_nifti_file_path}')\n"
   ]
  },
  {
   "cell_type": "code",
   "execution_count": 1,
   "id": "b0a1026d",
   "metadata": {},
   "outputs": [],
   "source": [
    "import os\n",
    "import nibabel as nib\n",
    "import numpy as np\n",
    "\n",
    "# Define the directory containing the NIfTI files\n",
    "directory_path = r'E:\\proje\\data\\0Hemmati\\fMRI\\MainData\\2019_05_22\\Image\\Series5-ep2d_Run2\\run2_1st_level\\run2_tcontrasts'\n",
    "\n",
    "# Define target dimensions\n",
    "target_shape = (91, 109, 91)\n",
    "\n",
    "# Calculate padding along each axis\n",
    "pad_x = target_shape[0] - 79\n",
    "pad_y = target_shape[1] - 95\n",
    "pad_z = target_shape[2] - 79\n",
    "\n",
    "# Define padding for each axis\n",
    "pad_width = (\n",
    "    (0, pad_x),  # Padding for x-axis\n",
    "    (0, pad_y),  # Padding for y-axis\n",
    "    (0, pad_z)   # Padding for z-axis\n",
    ")\n",
    "\n",
    "# Iterate over all .nii files in the directory\n",
    "for filename in os.listdir(directory_path):\n",
    "    if filename.endswith('.nii'):\n",
    "        # Construct the full file path\n",
    "        file_path = os.path.join(directory_path, filename)\n",
    "        \n",
    "        # Load the NIfTI file\n",
    "        img = nib.load(file_path)\n",
    "        data = img.get_fdata()\n",
    "        \n",
    "        # Apply asymmetric zero-padding\n",
    "        padded_data = np.pad(data, pad_width, mode='constant', constant_values=0)\n",
    "        \n",
    "        # Create a new NIfTI image using the padded data\n",
    "        padded_img = nib.Nifti1Image(padded_data, affine=img.affine)\n",
    "        \n",
    "        # Construct the new file name for the padded image\n",
    "        new_filename = 'lpad_' + filename\n",
    "        \n",
    "        # Define the path to save the padded NIfTI image\n",
    "        padded_file_path = os.path.join(directory_path, new_filename)\n",
    "        \n",
    "        # Save the padded NIfTI image\n",
    "        nib.save(padded_img, padded_file_path)\n",
    "        \n",
    "\n"
   ]
  }
 ],
 "metadata": {
  "kernelspec": {
   "display_name": "Python 3 (ipykernel)",
   "language": "python",
   "name": "python3"
  },
  "language_info": {
   "codemirror_mode": {
    "name": "ipython",
    "version": 3
   },
   "file_extension": ".py",
   "mimetype": "text/x-python",
   "name": "python",
   "nbconvert_exporter": "python",
   "pygments_lexer": "ipython3",
   "version": "3.11.5"
  }
 },
 "nbformat": 4,
 "nbformat_minor": 5
}

{
 "cells": [
  {
   "cell_type": "code",
   "execution_count": 1,
   "id": "241f4ec6",
   "metadata": {},
   "outputs": [
    {
     "ename": "NameError",
     "evalue": "name 'new_mask_data' is not defined",
     "output_type": "error",
     "traceback": [
      "\u001b[1;31m---------------------------------------------------------------------------\u001b[0m",
      "\u001b[1;31mNameError\u001b[0m                                 Traceback (most recent call last)",
      "Cell \u001b[1;32mIn[1], line 25\u001b[0m\n\u001b[0;32m     21\u001b[0m indices_in_mask \u001b[38;5;241m=\u001b[39m np\u001b[38;5;241m.\u001b[39mwhere(it_mask_data \u001b[38;5;241m!=\u001b[39m \u001b[38;5;241m0\u001b[39m)\n\u001b[0;32m     22\u001b[0m new_mask_indices \u001b[38;5;241m=\u001b[39m (indices_in_mask[\u001b[38;5;241m0\u001b[39m][top_800_indices], \n\u001b[0;32m     23\u001b[0m                     indices_in_mask[\u001b[38;5;241m1\u001b[39m][top_800_indices], \n\u001b[0;32m     24\u001b[0m                     indices_in_mask[\u001b[38;5;241m2\u001b[39m][top_800_indices])\n\u001b[1;32m---> 25\u001b[0m new_mask_data[new_mask_indices] \u001b[38;5;241m=\u001b[39m \u001b[38;5;241m1\u001b[39m\n\u001b[0;32m     27\u001b[0m \u001b[38;5;66;03m# Create a new NIfTI image with the header from the original mask\u001b[39;00m\n\u001b[0;32m     28\u001b[0m new_mask_img \u001b[38;5;241m=\u001b[39m nib\u001b[38;5;241m.\u001b[39mNifti1Image(new_mask_data, affine\u001b[38;5;241m=\u001b[39mit_mask_img\u001b[38;5;241m.\u001b[39maffine, header\u001b[38;5;241m=\u001b[39mit_mask_img\u001b[38;5;241m.\u001b[39mheader)\n",
      "\u001b[1;31mNameError\u001b[0m: name 'new_mask_data' is not defined"
     ]
    }
   ],
   "source": [
    "import numpy as np\n",
    "import nibabel as nib\n",
    "\n",
    "# Load t-contrast activity map\n",
    "t_map_file = r'E:\\proje\\data\\0Hemmati\\fMRI\\MainData\\2019_05_22\\Image\\build it mask/lpaverage.nii'\n",
    "t_map_img = nib.load(t_map_file)\n",
    "t_map_data = t_map_img.get_fdata()\n",
    "\n",
    "# Load V1 mask\n",
    "it_mask_path = r'E:\\proje\\data\\0Hemmati\\fMRI\\MainData\\2019_05_22\\Image\\mask/it_fusiform.nii'\n",
    "it_mask_img = nib.load(it_mask_path)\n",
    "it_mask_data = it_mask_img.get_fdata()\n",
    "\n",
    "# Extract values only within the mask\n",
    "masked_t_map_values = t_map_data[it_mask_data != 0]\n",
    "\n",
    "# Get indices of 800 most activated voxels\n",
    "top_800_indices = np.argsort(masked_t_map_values)[-800:]\n",
    "\n",
    "# Create a new mask with the 800 most activated voxels\n",
    "indices_in_mask = np.where(it_mask_data != 0)\n",
    "new_mask_indices = (indices_in_mask[0][top_800_indices], \n",
    "                    indices_in_mask[1][top_800_indices], \n",
    "                    indices_in_mask[2][top_800_indices])\n",
    "new_mask_data[new_mask_indices] = 1\n",
    "\n",
    "# Create a new NIfTI image with the header from the original mask\n",
    "new_mask_img = nib.Nifti1Image(new_mask_data, affine=it_mask_img.affine, header=it_mask_img.header)\n",
    "\n",
    "# Save the new mask\n",
    "new_mask_file = r'E:\\proje\\data\\0Hemmati\\fMRI\\MainData\\2019_05_22\\Image\\mask/new_it_fusiform.nii'\n",
    "nib.save(new_mask_img, new_mask_file)\n"
   ]
  }
 ],
 "metadata": {
  "kernelspec": {
   "display_name": "Python 3 (ipykernel)",
   "language": "python",
   "name": "python3"
  },
  "language_info": {
   "codemirror_mode": {
    "name": "ipython",
    "version": 3
   },
   "file_extension": ".py",
   "mimetype": "text/x-python",
   "name": "python",
   "nbconvert_exporter": "python",
   "pygments_lexer": "ipython3",
   "version": "3.11.5"
  }
 },
 "nbformat": 4,
 "nbformat_minor": 5
}

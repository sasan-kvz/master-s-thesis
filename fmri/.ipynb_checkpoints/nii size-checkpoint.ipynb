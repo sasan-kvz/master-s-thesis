{
 "cells": [
  {
   "cell_type": "code",
   "execution_count": 2,
   "id": "bd911ffd",
   "metadata": {},
   "outputs": [
    {
     "name": "stdout",
     "output_type": "stream",
     "text": [
      "Voxel Size (X, Y, Z): (2.0, 2.0, 2.0)\n",
      "Dimensions (X, Y, Z): (79, 95, 79)\n",
      "Number of voxels (X x Y x Z): 592895\n"
     ]
    }
   ],
   "source": [
    "#fumctional\n",
    "import nibabel as nib\n",
    "\n",
    "# Load the NIfTI file\n",
    "nifti_path = r'E:\\proje\\data\\0Hemmati\\fMRI\\MainData\\2019_05_22\\Image\\Series6-ep2d_Run3\\run3_1st_level\\run3_tcontrasts/spmT_0001.nii'\n",
    "nifti_img = nib.load(nifti_path)\n",
    "\n",
    "# Get the image data array and dimensions\n",
    "nifti_data = nifti_img.get_fdata()\n",
    "dimensions = nifti_data.shape\n",
    "# Get the voxel dimensions from the header\n",
    "voxel_sizes = nifti_img.header.get_zooms()\n",
    "\n",
    "# Print the voxel sizes along each axis\n",
    "print(\"Voxel Size (X, Y, Z):\", voxel_sizes)\n",
    "\n",
    "print(\"Dimensions (X, Y, Z):\", dimensions)\n",
    "print(\"Number of voxels (X x Y x Z):\", dimensions[0] * dimensions[1] * dimensions[2])"
   ]
  },
  {
   "cell_type": "code",
   "execution_count": 1,
   "id": "5f83fe28",
   "metadata": {},
   "outputs": [
    {
     "name": "stdout",
     "output_type": "stream",
     "text": [
      "Voxel Size (X, Y, Z): (2.0, 2.0, 2.0)\n",
      "Dimensions (X, Y, Z): (91, 109, 91)\n",
      "Number of voxels (X x Y x Z): 902629\n"
     ]
    }
   ],
   "source": [
    "#t-contrast\n",
    "import nibabel as nib\n",
    "\n",
    "# Load the NIfTI file\n",
    "nifti_path = r'E:\\proje\\data\\0Hemmati\\fMRI\\MainData\\2019_05_22\\Image\\Series4_ep2d_Run1\\first_lev\\run1 tcontrasts/lpad_spmT_0001.nii'\n",
    "nifti_img = nib.load(nifti_path)\n",
    "\n",
    "# Get the image data array and dimensions\n",
    "nifti_data = nifti_img.get_fdata()\n",
    "dimensions = nifti_data.shape\n",
    "# Get the voxel dimensions from the header\n",
    "voxel_sizes = nifti_img.header.get_zooms()\n",
    "\n",
    "# Print the voxel sizes along each axis\n",
    "print(\"Voxel Size (X, Y, Z):\", voxel_sizes)\n",
    "\n",
    "print(\"Dimensions (X, Y, Z):\", dimensions)\n",
    "print(\"Number of voxels (X x Y x Z):\", dimensions[0] * dimensions[1] * dimensions[2])"
   ]
  },
  {
   "cell_type": "code",
   "execution_count": 7,
   "id": "96c53699",
   "metadata": {},
   "outputs": [
    {
     "name": "stdout",
     "output_type": "stream",
     "text": [
      "Voxel Size (X, Y, Z): (2.0, 2.0, 2.0)\n",
      "Dimensions (X, Y, Z): (91, 109, 91)\n",
      "Number of voxels (X x Y x Z): 902629\n"
     ]
    }
   ],
   "source": [
    "#mask\n",
    "import nibabel as nib\n",
    "\n",
    "# Load the NIfTI file\n",
    "nifti_path = \"E:\\\\proje\\\\data\\\\0Hemmati\\\\fMRI\\\\MainData\\\\2019_05_22\\\\Image\\\\Series4_ep2d_Run1\\\\mask\\\\v1.nii\"\n",
    "nifti_img = nib.load(nifti_path)\n",
    "\n",
    "# Get the image data array and dimensions\n",
    "nifti_data = nifti_img.get_fdata()\n",
    "dimensions = nifti_data.shape\n",
    "# Get the voxel dimensions from the header\n",
    "voxel_sizes = nifti_img.header.get_zooms()\n",
    "\n",
    "# Print the voxel sizes along each axis\n",
    "print(\"Voxel Size (X, Y, Z):\", voxel_sizes)\n",
    "\n",
    "print(\"Dimensions (X, Y, Z):\", dimensions)\n",
    "print(\"Number of voxels (X x Y x Z):\", dimensions[0] * dimensions[1] * dimensions[2])"
   ]
  },
  {
   "cell_type": "code",
   "execution_count": 22,
   "id": "b6a3c618",
   "metadata": {},
   "outputs": [
    {
     "name": "stdout",
     "output_type": "stream",
     "text": [
      "Voxel Size (X, Y, Z): (2.0, 2.0, 2.0)\n",
      "Dimensions (X, Y, Z): (79, 95, 79)\n",
      "Number of voxels (X x Y x Z): 592895\n"
     ]
    }
   ],
   "source": [
    "#structural\n",
    "import nibabel as nib\n",
    "\n",
    "# Load the NIfTI file\n",
    "nifti_path = \"E:\\\\proje\\\\data\\\\0Hemmati\\\\fMRI\\\\MainData\\\\2019_05_22\\\\Image\\\\Series 3-t1_mprage_sag_p2_iso\\\\nii//wws97158030101-0002-00001-000160-01.nii\"\n",
    "nifti_img = nib.load(nifti_path)\n",
    "\n",
    "# Get the image data array and dimensions\n",
    "nifti_data = nifti_img.get_fdata()\n",
    "dimensions = nifti_data.shape\n",
    "# Get the voxel dimensions from the header\n",
    "voxel_sizes = nifti_img.header.get_zooms()\n",
    "\n",
    "# Print the voxel sizes along each axis\n",
    "print(\"Voxel Size (X, Y, Z):\", voxel_sizes)\n",
    "\n",
    "print(\"Dimensions (X, Y, Z):\", dimensions)\n",
    "print(\"Number of voxels (X x Y x Z):\", dimensions[0] * dimensions[1] * dimensions[2])"
   ]
  },
  {
   "cell_type": "code",
   "execution_count": 16,
   "id": "d192bb56",
   "metadata": {},
   "outputs": [
    {
     "name": "stdout",
     "output_type": "stream",
     "text": [
      "Voxel Size (X, Y, Z): (2.0, 2.0, 2.0)\n",
      "Dimensions (X, Y, Z): (91, 109, 91)\n",
      "Number of voxels (X x Y x Z): 902629\n"
     ]
    }
   ],
   "source": [
    "#mni\n",
    "import nibabel as nib\n",
    "\n",
    "# Load the NIfTI file\n",
    "nifti_path = r'E:\\proje\\toolboxes\\spm12\\canonical/avg152pd.nii'\n",
    "nifti_img = nib.load(nifti_path)\n",
    "\n",
    "# Get the image data array and dimensions\n",
    "nifti_data = nifti_img.get_fdata()\n",
    "dimensions = nifti_data.shape\n",
    "# Get the voxel dimensions from the header\n",
    "voxel_sizes = nifti_img.header.get_zooms()\n",
    "\n",
    "# Print the voxel sizes along each axis\n",
    "print(\"Voxel Size (X, Y, Z):\", voxel_sizes)\n",
    "\n",
    "\n",
    "print(\"Dimensions (X, Y, Z):\", dimensions)\n",
    "print(\"Number of voxels (X x Y x Z):\", dimensions[0] * dimensions[1] * dimensions[2])"
   ]
  },
  {
   "cell_type": "code",
   "execution_count": null,
   "id": "e9ad43b7",
   "metadata": {},
   "outputs": [],
   "source": []
  }
 ],
 "metadata": {
  "kernelspec": {
   "display_name": "Python 3 (ipykernel)",
   "language": "python",
   "name": "python3"
  },
  "language_info": {
   "codemirror_mode": {
    "name": "ipython",
    "version": 3
   },
   "file_extension": ".py",
   "mimetype": "text/x-python",
   "name": "python",
   "nbconvert_exporter": "python",
   "pygments_lexer": "ipython3",
   "version": "3.11.5"
  }
 },
 "nbformat": 4,
 "nbformat_minor": 5
}

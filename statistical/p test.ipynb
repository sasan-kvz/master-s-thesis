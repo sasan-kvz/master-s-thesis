{
 "cells": [
  {
   "cell_type": "code",
   "execution_count": 4,
   "id": "c9baeb23",
   "metadata": {},
   "outputs": [
    {
     "name": "stdout",
     "output_type": "stream",
     "text": [
      "Significance Threshold: 0.0798049748008928\n"
     ]
    }
   ],
   "source": [
    "import numpy as np\n",
    "from scipy.stats import spearmanr\n",
    "\n",
    "# Assuming original_fmri_vector and eeg_vectors are your original data\n",
    "original_fmri_vector = np.random.rand(435)\n",
    "eeg_vectors = np.random.rand(9, 250, 435)\n",
    "\n",
    "# Step 1: Calculate original RSA map\n",
    "original_rsa_map = np.zeros((9, 250))\n",
    "for i in range(9):\n",
    "    for j in range(250):\n",
    "        original_rsa_map[i, j] = spearmanr(original_fmri_vector, eeg_vectors[i, j])[0]\n",
    "\n",
    "# Step 2: Perform permutation test\n",
    "num_permutations = 10\n",
    "permutation_rsa_maps = np.zeros((num_permutations, 9, 250))\n",
    "for k in range(num_permutations):\n",
    "    shuffled_fmri_vector = np.random.permutation(original_fmri_vector)\n",
    "    shuffled_eeg_vectors = np.random.permutation(eeg_vectors.reshape(-1, 435)).reshape(9, 250, 435)\n",
    "    for i in range(9):\n",
    "        for j in range(250):\n",
    "            permutation_rsa_maps[k, i, j] = spearmanr(shuffled_fmri_vector, shuffled_eeg_vectors[i, j])[0]\n",
    "\n",
    "# Step 3: Flatten all RSA maps\n",
    "flattened_rsa_maps = permutation_rsa_maps.reshape(-1)\n",
    "\n",
    "# Step 4: Create histogram\n",
    "histogram, bins = np.histogram(flattened_rsa_maps, bins=50)\n",
    "\n",
    "# Step 5: Determine significance level threshold\n",
    "# For example, you can choose the 95th percentile as your threshold\n",
    "significance_threshold = np.percentile(flattened_rsa_maps, 95)\n",
    "\n",
    "# Print or plot the histogram\n",
    "print(\"Significance Threshold:\", significance_threshold)\n"
   ]
  }
 ],
 "metadata": {
  "kernelspec": {
   "display_name": "Python 3 (ipykernel)",
   "language": "python",
   "name": "python3"
  },
  "language_info": {
   "codemirror_mode": {
    "name": "ipython",
    "version": 3
   },
   "file_extension": ".py",
   "mimetype": "text/x-python",
   "name": "python",
   "nbconvert_exporter": "python",
   "pygments_lexer": "ipython3",
   "version": "3.11.7"
  }
 },
 "nbformat": 4,
 "nbformat_minor": 5
}
